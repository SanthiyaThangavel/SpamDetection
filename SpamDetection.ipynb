{
  "nbformat": 4,
  "nbformat_minor": 0,
  "metadata": {
    "colab": {
      "provenance": []
    },
    "kernelspec": {
      "name": "python3",
      "display_name": "Python 3"
    },
    "language_info": {
      "name": "python"
    }
  },
  "cells": [
    {
      "cell_type": "code",
      "execution_count": null,
      "metadata": {
        "id": "WXEzvlP9qyOT"
      },
      "outputs": [],
      "source": [
        "import pandas as pd\n",
        "from sklearn.model_selection import train_test_split\n",
        "from sklearn.feature_extraction.text import TfidfVectorizer\n",
        "from sklearn.svm import SVC\n",
        "from sklearn.pipeline import make_pipeline\n",
        "\n",
        "# Load the CSV file\n",
        "data = pd.read_csv(\"spam.csv\", encoding='latin-1')\n",
        "\n",
        "# Preprocess the data\n",
        "data = data.rename(columns={'v1': 'label', 'v2': 'message'})\n",
        "data = data[['label', 'message']]\n",
        "data['label'] = data['label'].map({'ham': 0, 'spam': 1})\n",
        "\n",
        "# Split data into training and test sets\n",
        "X_train, X_test, y_train, y_test = train_test_split(data['message'], data['label'], test_size=0.2, random_state=42)\n",
        "\n",
        "# Create a pipeline with TF-IDF vectorizer and SVM\n",
        "model = make_pipeline(TfidfVectorizer(stop_words='english'), SVC(kernel='linear', probability=True))\n",
        "\n",
        "# Train the model\n",
        "model.fit(X_train, y_train)\n",
        "\n",
        "# Function to predict and get probability\n",
        "def predict_message(message):\n",
        "    prediction = model.predict([message])[0]\n",
        "    probability = model.predict_proba([message])[0][prediction]\n",
        "    label = 'spam' if prediction == 1 else 'ham'\n",
        "    return label, probability\n",
        "\n"
      ]
    },
    {
      "cell_type": "code",
      "source": [
        "# Example usage\n",
        "user_input = input(\"Enter an SMS message: \")\n",
        "label, probability = predict_message(user_input)\n",
        "print(f\"The message is classified as '{label}' with a probability of {probability:.2f}\")"
      ],
      "metadata": {
        "colab": {
          "base_uri": "https://localhost:8080/"
        },
        "id": "H3hu7u6xrEAB",
        "outputId": "962c12c8-bea6-404c-cbd1-3d102b6e86d8"
      },
      "execution_count": null,
      "outputs": [
        {
          "output_type": "stream",
          "name": "stdout",
          "text": [
            "Enter an SMS message: Congratulations!You have won a lottery amount of Rs.100000. Text 'WIN' to 12345 to claim\n",
            "The message is classified as 'spam' with a probability of 1.00\n"
          ]
        }
      ]
    }
  ]
}